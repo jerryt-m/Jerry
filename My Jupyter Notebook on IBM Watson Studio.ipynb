{
    "cells": [
        {
            "cell_type": "markdown",
            "metadata": {},
            "source": "# My Jupyter Notebook on IBM Watson Studio"
        },
        {
            "cell_type": "markdown",
            "metadata": {},
            "source": "###### Jeremiah Tom\nData Analyst in telecommunication"
        },
        {
            "cell_type": "markdown",
            "metadata": {},
            "source": "<i> I have flair for Data processing and when i saw the prospect of data scientist i could not help it but to join the bandwagon moreso, I love telling stories with data and using data to help bring that data to life.</i>"
        },
        {
            "cell_type": "markdown",
            "metadata": {},
            "source": "### This sets of code is to show calculation of number"
        },
        {
            "cell_type": "code",
            "execution_count": 21,
            "metadata": {},
            "outputs": [
                {
                    "data": {
                        "text/plain": "5"
                    },
                    "execution_count": 21,
                    "metadata": {},
                    "output_type": "execute_result"
                }
            ],
            "source": "3+1+4-3"
        },
        {
            "cell_type": "markdown",
            "metadata": {},
            "source": "***\n>\n<a href=\"url\" target=\"_blank\">hyperlinked words</a>"
        }
    ],
    "metadata": {
        "kernelspec": {
            "display_name": "Python 3.6",
            "language": "python",
            "name": "python3"
        },
        "language_info": {
            "codemirror_mode": {
                "name": "ipython",
                "version": 3
            },
            "file_extension": ".py",
            "mimetype": "text/x-python",
            "name": "python",
            "nbconvert_exporter": "python",
            "pygments_lexer": "ipython3",
            "version": "3.6.9"
        }
    },
    "nbformat": 4,
    "nbformat_minor": 1
}